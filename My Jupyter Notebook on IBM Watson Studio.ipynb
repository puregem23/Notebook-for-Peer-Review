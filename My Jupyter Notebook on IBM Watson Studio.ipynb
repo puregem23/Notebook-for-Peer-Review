{
 "cells": [
  {
   "cell_type": "markdown",
   "metadata": {
    "collapsed": true
   },
   "source": [
    "# My Jupyter Notebook on IBM Watson Studio"
   ]
  },
  {
   "cell_type": "markdown",
   "metadata": {},
   "source": [
    "**Blythe**"
   ]
  },
  {
   "cell_type": "markdown",
   "metadata": {},
   "source": [
    "Current role: Director Content Acquisition Program Ops"
   ]
  },
  {
   "cell_type": "markdown",
   "metadata": {},
   "source": [
    "*I am interested in data science because data rules the world! Studying data science is a way to explore this continually growing industry, and to figure out which practical application(s) and/or paths might be a good fit for me; specifically in the areas of television, streaming and and media operations. Its also fun and interesting participating in hands on learing about code, and the various tools covered throughout the courses!*"
   ]
  },
  {
   "cell_type": "markdown",
   "metadata": {},
   "source": [
    "### The following line describes something being used"
   ]
  },
  {
   "cell_type": "code",
   "execution_count": 8,
   "metadata": {},
   "outputs": [
    {
     "name": "stdout",
     "output_type": "stream",
     "text": [
      "This is a bit of serpent code\n"
     ]
    }
   ],
   "source": [
    "print('This is a bit of serpent code')"
   ]
  },
  {
   "attachments": {},
   "cell_type": "markdown",
   "metadata": {},
   "source": [
    "> You don't think that's funny?\n",
    ">\n",
    ">> Well I disagree and so does he!\n",
    ">\n",
    ">>> 1. ha\n",
    ">>> 2. haha\n",
    ">>> 3. hahaha\n",
    ">>> 4. hahahaha\n",
    "\n",
    "!(https://charatoon.com/photo/dl/2723.png?20200429)\n",
    "\n",
    "\n",
    "\n",
    "\n",
    "\n",
    "\n"
   ]
  }
 ],
 "metadata": {
  "celltoolbar": "Raw Cell Format",
  "kernelspec": {
   "display_name": "Python 3.9",
   "language": "python",
   "name": "python3"
  },
  "language_info": {
   "codemirror_mode": {
    "name": "ipython",
    "version": 3
   },
   "file_extension": ".py",
   "mimetype": "text/x-python",
   "name": "python",
   "nbconvert_exporter": "python",
   "pygments_lexer": "ipython3",
   "version": "3.9.13"
  }
 },
 "nbformat": 4,
 "nbformat_minor": 1
}
